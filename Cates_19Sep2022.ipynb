{
 "cells": [
  {
   "cell_type": "code",
   "execution_count": 1,
   "metadata": {},
   "outputs": [],
   "source": [
    "import numpy as np \n",
    "import matplotlib.pyplot as plt \n",
    "import math\n",
    "from matplotlib import rc \n",
    "import pandas as pd\n",
    "plt.rcParams.update({\n",
    "    \"text.usetex\": False,\n",
    "    \"font.family\": \"sans-serif\",\n",
    "    \"font.sans-serif\": [\"Helvetica\"]})\n",
    "# for Palatino and other serif fonts use:\n",
    "plt.rcParams.update({\n",
    "    \"text.usetex\": False,\n",
    "    \"font.family\": \"serif\",\n",
    "    \"font.serif\": [\"Palatino\"],\n",
    "})\n",
    "# It's also possible to use the reduced notation by directly setting font.family:\n",
    "plt.rcParams.update({\n",
    "  \"text.usetex\": False,\n",
    "  \"font.family\": \"Helvetica\"\n",
    "})\n",
    "import scipy\n",
    "import math\n",
    "import os\n",
    "from scipy import optimize\n",
    "from datetime import date\n"
   ]
  },
  {
   "cell_type": "code",
   "execution_count": 2,
   "metadata": {},
   "outputs": [],
   "source": [
    "def objective_fun(x,a,b):\n",
    "    return a*np.exp(-x/b)"
   ]
  },
  {
   "cell_type": "code",
   "execution_count": 8,
   "metadata": {},
   "outputs": [
    {
     "name": "stdout",
     "output_type": "stream",
     "text": [
      "patch0.7/density0.01/epsilonAA_18/post_process_files/particle_cluster_size.dat\n",
      "patch0.7/density0.01/epsilonAA_20/N1000/post_process_files/particle_cluster_size.dat\n",
      "patch0.7/density0.01/epsilonAA_22/post_process_files/particle_cluster_size.dat\n",
      "patch0.7/density0.01/epsilonAA_25/post_process_files/particle_cluster_size.dat\n",
      "patch0.7/density0.01/epsilonAA_30/post_process_files/particle_cluster_size.dat\n",
      "patch0.7/density0.01/epsilonAA_35/post_process_files/particle_cluster_size.dat\n",
      "patch0.7/density0.01/epsilonAA_40/post_process_files/particle_cluster_size.dat\n",
      "patch0.7/density0.05/epsilonAA_18/post_process_files/particle_cluster_size.dat\n",
      "patch0.7/density0.05/epsilonAA_20/N1000/post_process_files/particle_cluster_size.dat\n",
      "patch0.7/density0.05/epsilonAA_22/post_process_files/particle_cluster_size.dat\n",
      "patch0.7/density0.05/epsilonAA_25/post_process_files/particle_cluster_size.dat\n",
      "patch0.7/density0.05/epsilonAA_30/post_process_files/particle_cluster_size.dat\n",
      "patch0.7/density0.05/epsilonAA_35/post_process_files/particle_cluster_size.dat\n",
      "patch0.7/density0.05/epsilonAA_40/post_process_files/particle_cluster_size.dat\n",
      "patch0.7/density0.1/epsilonAA_18/post_process_files/particle_cluster_size.dat\n",
      "patch0.7/density0.1/epsilonAA_20/N1000/post_process_files/particle_cluster_size.dat\n",
      "patch0.7/density0.1/epsilonAA_22/post_process_files/particle_cluster_size.dat\n",
      "patch0.7/density0.1/epsilonAA_25/post_process_files/particle_cluster_size.dat\n",
      "patch0.7/density0.1/epsilonAA_30/post_process_files/particle_cluster_size.dat\n"
     ]
    },
    {
     "name": "stderr",
     "output_type": "stream",
     "text": [
      "/tmp/ipykernel_414263/15819103.py:2: RuntimeWarning: overflow encountered in exp\n",
      "  return a*np.exp(-x/b)\n"
     ]
    },
    {
     "name": "stdout",
     "output_type": "stream",
     "text": [
      "patch0.7/density0.1/epsilonAA_35/post_process_files/particle_cluster_size.dat\n",
      "patch0.7/density0.1/epsilonAA_40/post_process_files/particle_cluster_size.dat\n",
      "patch0.8/density0.01/epsilonAA_18/post_process_files/particle_cluster_size.dat\n",
      "patch0.8/density0.01/epsilonAA_20/post_process_files/particle_cluster_size.dat\n",
      "patch0.8/density0.01/epsilonAA_22/post_process_files/particle_cluster_size.dat\n",
      "patch0.8/density0.01/epsilonAA_25/post_process_files/particle_cluster_size.dat\n",
      "patch0.8/density0.01/epsilonAA_30/post_process_files/particle_cluster_size.dat\n",
      "patch0.8/density0.01/epsilonAA_35/post_process_files/particle_cluster_size.dat\n",
      "patch0.8/density0.01/epsilonAA_40/post_process_files/particle_cluster_size.dat\n",
      "patch0.8/density0.05/epsilonAA_18/post_process_files/particle_cluster_size.dat\n",
      "patch0.8/density0.05/epsilonAA_20/post_process_files/particle_cluster_size.dat\n",
      "patch0.8/density0.05/epsilonAA_22/post_process_files/particle_cluster_size.dat\n",
      "patch0.8/density0.05/epsilonAA_25/post_process_files/particle_cluster_size.dat\n",
      "patch0.8/density0.05/epsilonAA_30/post_process_files/particle_cluster_size.dat\n",
      "Error with curve fittting :  patch0.8/density0.05/epsilonAA_30/post_process_files/particle_cluster_size.dat\n",
      "patch0.8/density0.05/epsilonAA_35/post_process_files/particle_cluster_size.dat\n",
      "Error with curve fittting :  patch0.8/density0.05/epsilonAA_35/post_process_files/particle_cluster_size.dat\n",
      "patch0.8/density0.05/epsilonAA_40/post_process_files/particle_cluster_size.dat\n",
      "Error with curve fittting :  patch0.8/density0.05/epsilonAA_40/post_process_files/particle_cluster_size.dat\n",
      "patch0.8/density0.1/epsilonAA_18/post_process_files/particle_cluster_size.dat\n",
      "patch0.8/density0.1/epsilonAA_20/post_process_files/particle_cluster_size.dat\n",
      "patch0.8/density0.1/epsilonAA_22/post_process_files/particle_cluster_size.dat\n",
      "patch0.8/density0.1/epsilonAA_25/post_process_files/particle_cluster_size.dat\n",
      "patch0.8/density0.1/epsilonAA_30/post_process_files/particle_cluster_size.dat\n"
     ]
    },
    {
     "name": "stderr",
     "output_type": "stream",
     "text": [
      "/tmp/ipykernel_414263/15819103.py:2: RuntimeWarning: overflow encountered in exp\n",
      "  return a*np.exp(-x/b)\n",
      "/tmp/ipykernel_414263/15819103.py:2: RuntimeWarning: overflow encountered in multiply\n",
      "  return a*np.exp(-x/b)\n"
     ]
    },
    {
     "name": "stdout",
     "output_type": "stream",
     "text": [
      "patch0.8/density0.1/epsilonAA_35/post_process_files/particle_cluster_size.dat\n"
     ]
    },
    {
     "name": "stderr",
     "output_type": "stream",
     "text": [
      "/tmp/ipykernel_414263/15819103.py:2: RuntimeWarning: overflow encountered in exp\n",
      "  return a*np.exp(-x/b)\n",
      "/tmp/ipykernel_414263/15819103.py:2: RuntimeWarning: overflow encountered in multiply\n",
      "  return a*np.exp(-x/b)\n"
     ]
    },
    {
     "name": "stdout",
     "output_type": "stream",
     "text": [
      "Error with curve fittting :  patch0.8/density0.1/epsilonAA_35/post_process_files/particle_cluster_size.dat\n",
      "patch0.8/density0.1/epsilonAA_40/post_process_files/particle_cluster_size.dat\n",
      "Error with curve fittting :  patch0.8/density0.1/epsilonAA_40/post_process_files/particle_cluster_size.dat\n",
      "patch0.9/density0.01/epsilonAA_18/post_process_files/particle_cluster_size.dat\n",
      "patch0.9/density0.01/epsilonAA_20/post_process_files/particle_cluster_size.dat\n",
      "patch0.9/density0.01/epsilonAA_22/post_process_files/particle_cluster_size.dat\n",
      "patch0.9/density0.01/epsilonAA_25/post_process_files/particle_cluster_size.dat\n",
      "patch0.9/density0.01/epsilonAA_30/post_process_files/particle_cluster_size.dat\n",
      "patch0.9/density0.01/epsilonAA_35/post_process_files/particle_cluster_size.dat\n",
      "patch0.9/density0.01/epsilonAA_40/post_process_files/particle_cluster_size.dat\n"
     ]
    },
    {
     "name": "stderr",
     "output_type": "stream",
     "text": [
      "/tmp/ipykernel_414263/15819103.py:2: RuntimeWarning: overflow encountered in exp\n",
      "  return a*np.exp(-x/b)\n"
     ]
    },
    {
     "name": "stdout",
     "output_type": "stream",
     "text": [
      "patch0.9/density0.05/epsilonAA_18/post_process_files/particle_cluster_size.dat\n",
      "patch0.9/density0.05/epsilonAA_20/post_process_files/particle_cluster_size.dat\n",
      "patch0.9/density0.05/epsilonAA_22/post_process_files/particle_cluster_size.dat\n",
      "patch0.9/density0.05/epsilonAA_25/post_process_files/particle_cluster_size.dat\n"
     ]
    },
    {
     "name": "stderr",
     "output_type": "stream",
     "text": [
      "/tmp/ipykernel_414263/15819103.py:2: RuntimeWarning: overflow encountered in exp\n",
      "  return a*np.exp(-x/b)\n"
     ]
    },
    {
     "name": "stdout",
     "output_type": "stream",
     "text": [
      "patch0.9/density0.05/epsilonAA_30/post_process_files/particle_cluster_size.dat\n",
      "Error with curve fittting :  patch0.9/density0.05/epsilonAA_30/post_process_files/particle_cluster_size.dat\n",
      "patch0.9/density0.05/epsilonAA_35/post_process_files/particle_cluster_size.dat\n",
      "Error with curve fittting :  patch0.9/density0.05/epsilonAA_35/post_process_files/particle_cluster_size.dat\n",
      "patch0.9/density0.05/epsilonAA_40/post_process_files/particle_cluster_size.dat\n",
      "patch0.9/density0.1/epsilonAA_18/post_process_files/particle_cluster_size.dat\n",
      "patch0.9/density0.1/epsilonAA_20/post_process_files/particle_cluster_size.dat\n",
      "patch0.9/density0.1/epsilonAA_22/post_process_files/particle_cluster_size.dat\n",
      "patch0.9/density0.1/epsilonAA_25/post_process_files/particle_cluster_size.dat\n",
      "patch0.9/density0.1/epsilonAA_30/post_process_files/particle_cluster_size.dat\n",
      "Error with curve fittting :  patch0.9/density0.1/epsilonAA_30/post_process_files/particle_cluster_size.dat\n",
      "patch0.9/density0.1/epsilonAA_35/post_process_files/particle_cluster_size.dat\n",
      "Error with curve fittting :  patch0.9/density0.1/epsilonAA_35/post_process_files/particle_cluster_size.dat\n",
      "patch0.9/density0.1/epsilonAA_40/post_process_files/particle_cluster_size.dat\n",
      "Error with curve fittting :  patch0.9/density0.1/epsilonAA_40/post_process_files/particle_cluster_size.dat\n"
     ]
    }
   ],
   "source": [
    "patch = [0.7,0.8,0.9]\n",
    "density = [0.01,0.05,0.1]\n",
    "epsilon = [18,20,22,25,30,35,40]\n",
    "for i in patch:\n",
    "    for j in density:\n",
    "        for k in epsilon:\n",
    "            if j < 0.1:\n",
    "                path = 'patch%0.1f/density%0.2f/epsilonAA_%d'%(i,j,k)\n",
    "            else:\n",
    "                path = 'patch%0.1f/density%0.1f/epsilonAA_%d'%(i,j,k)\n",
    "            if k == 20 and i == 0.7:\n",
    "                fig_path = path + \"/N1000/figures/Chain_Hist_New%s.jpg\"%date.today()\n",
    "                Ifile1 = path + \"/N1000/chain_size_distribution_new_.dat\"\n",
    "                Ifile2 = path + \"/N1000/post_process_files/particle_cluster_size.dat\"\n",
    "                Ofile = path + \"/N1000/analysis_files/distribution_fit_cates.dat\"\n",
    "            else:\n",
    "                fig_path = path + \"/figures/Chain_Hist_New.jpg\"\n",
    "                Ifile1 = path + \"/chain_size_distribution_new_.dat\"\n",
    "                Ifile2 = path + \"/post_process_files/particle_cluster_size.dat\"\n",
    "                Ofile = path + \"/analysis_files/distribution_fit_cates.dat\"\n",
    "            f3 = open(Ofile,\"w\")\n",
    "            print(Ifile2)\n",
    "            print(\"Fit parameters for M Cates paper for figure Chain_Hist_New.jpg :\",date.today(),file = f3)\n",
    "            print(\"a*exp(-x/b)\",file = f3)\n",
    "            data = np.genfromtxt(Ifile1,skip_header = 1)\n",
    "            pdat = np.genfromtxt(Ifile2,skip_header = 25024001,dtype=int)\n",
    "            bin_centers = np.array(data[:np.max(pdat[:,1]+1),0],dtype = int)\n",
    "            #y2 = np.array(data[:np.max(pdat[:,1])+1,1])/np.sum(data[:np.max(pdat[:,1])+1,1])\n",
    "            NL = data[:np.max(pdat[:,1])+1,1]/np.sum(data[:np.max(pdat[:,1])+1,1])\n",
    "            try:\n",
    "                par,cov = optimize.curve_fit(objective_fun,xdata = data[:np.max(pdat[:,1])+1,0],ydata = NL,maxfev=2000)\n",
    "                y = objective_fun(data[:np.max(pdat[:,1])+1,0],par[0],par[1])\n",
    "                print(\"a = \",par[0],file = f3)\n",
    "                print(\"b = \",par[1],file = f3)\n",
    "                fig = plt.figure()\n",
    "                ax = fig.add_axes([0.15,0.15,0.80,0.80])\n",
    "                #ax.hist(pdat[:,1],bins = np.max(pdat[:,1]+1),density=True,color = \"seagreen\")\n",
    "                ax.bar(bin_centers,NL,width = 0.9,align='center',color = 'seagreen',linewidth = 1.0,yerr = data[:np.max(pdat[:,1])+1,2],capsize = 2)\n",
    "                ax.plot(data[:np.max(pdat[:,1])+1,0],y,color = \"darkorange\",linewidth = 2)\n",
    "                plt.xlabel(r\"$L$\",fontsize = 20)\n",
    "                plt.ylabel(r\"$N(L)$\",fontsize = 20)\n",
    "                plt.xticks(fontsize = 14)\n",
    "                plt.yticks(fontsize = 14)\n",
    "                plt.savefig(fig_path,dpi = 600)\n",
    "                plt.close()\n",
    "                f3.close()\n",
    "            except:\n",
    "                print(\"Error with curve fittting : \",Ifile2)\n",
    "        \n",
    "            \n",
    "            "
   ]
  },
  {
   "cell_type": "code",
   "execution_count": 9,
   "metadata": {},
   "outputs": [
    {
     "name": "stdout",
     "output_type": "stream",
     "text": [
      "patch0.7/density0.01/epsilonAA_18\n",
      "patch0.7/density0.01/epsilonAA_20\n",
      "patch0.7/density0.01/epsilonAA_22\n",
      "patch0.7/density0.01/epsilonAA_25\n",
      "patch0.7/density0.01/epsilonAA_30\n",
      "patch0.7/density0.01/epsilonAA_35\n",
      "patch0.7/density0.01/epsilonAA_40\n",
      "patch0.7/density0.05/epsilonAA_18\n",
      "patch0.7/density0.05/epsilonAA_20\n",
      "patch0.7/density0.05/epsilonAA_22\n",
      "patch0.7/density0.05/epsilonAA_25\n",
      "patch0.7/density0.05/epsilonAA_30\n",
      "patch0.7/density0.05/epsilonAA_35\n"
     ]
    },
    {
     "name": "stderr",
     "output_type": "stream",
     "text": [
      "/tmp/ipykernel_414263/2790020133.py:63: RuntimeWarning: Mean of empty slice\n",
      "  c1_nm = (np.nanmean(frag[:2000])+np.nanmean(depol[:2000]))/dt1 + (np.nanmean(frag[200:])+np.nanmean(depol[2000:]))/dt2\n",
      "/tmp/ipykernel_414263/2790020133.py:67: RuntimeWarning: Mean of empty slice\n",
      "  print(\"depolymerization without zeros :\",(np.nanmean(depol[:2000])/dt1 + np.nanmean(depol[2000:])/dt),file = f3)\n"
     ]
    },
    {
     "name": "stdout",
     "output_type": "stream",
     "text": [
      "patch0.7/density0.05/epsilonAA_40\n",
      "patch0.7/density0.1/epsilonAA_18\n",
      "patch0.7/density0.1/epsilonAA_20\n",
      "patch0.7/density0.1/epsilonAA_22\n",
      "patch0.7/density0.1/epsilonAA_25\n",
      "patch0.7/density0.1/epsilonAA_30\n",
      "patch0.7/density0.1/epsilonAA_35\n",
      "patch0.7/density0.1/epsilonAA_40\n",
      "patch0.8/density0.01/epsilonAA_18\n",
      "patch0.8/density0.01/epsilonAA_20\n",
      "patch0.8/density0.01/epsilonAA_22\n",
      "patch0.8/density0.01/epsilonAA_25\n",
      "patch0.8/density0.01/epsilonAA_30\n",
      "patch0.8/density0.01/epsilonAA_35\n"
     ]
    },
    {
     "name": "stderr",
     "output_type": "stream",
     "text": [
      "/tmp/ipykernel_414263/2790020133.py:66: RuntimeWarning: Mean of empty slice\n",
      "  print(\"fragmentation without zeros :\",(np.nanmean(frag[:2000])/dt1 + np.nanmean(frag[2000:])/dt2),file = f3)\n",
      "/tmp/ipykernel_414263/2790020133.py:87: RuntimeWarning: divide by zero encountered in double_scalars\n",
      "  print(\"L_bar from simulation :\",np.sqrt((rho*c2_av)/(2*c1_av)),file = f2)\n"
     ]
    },
    {
     "name": "stdout",
     "output_type": "stream",
     "text": [
      "patch0.8/density0.01/epsilonAA_40\n",
      "patch0.8/density0.05/epsilonAA_18\n",
      "patch0.8/density0.05/epsilonAA_20\n",
      "patch0.8/density0.05/epsilonAA_22\n",
      "patch0.8/density0.05/epsilonAA_25\n",
      "patch0.8/density0.05/epsilonAA_30\n",
      "patch0.8/density0.05/epsilonAA_35\n",
      "patch0.8/density0.05/epsilonAA_40\n",
      "patch0.8/density0.1/epsilonAA_18\n",
      "patch0.8/density0.1/epsilonAA_20\n",
      "patch0.8/density0.1/epsilonAA_22\n",
      "patch0.8/density0.1/epsilonAA_25\n",
      "patch0.8/density0.1/epsilonAA_30\n",
      "patch0.8/density0.1/epsilonAA_35\n"
     ]
    },
    {
     "name": "stderr",
     "output_type": "stream",
     "text": [
      "/tmp/ipykernel_414263/2790020133.py:64: RuntimeWarning: Mean of empty slice\n",
      "  c2_nm = np.nanmean(elon[:2000])/dt1 + np.nanmean(elon[2000:])/dt2\n",
      "/tmp/ipykernel_414263/2790020133.py:65: RuntimeWarning: Mean of empty slice\n",
      "  print(\"elongation without zeros : \",(np.nanmean(elon[:2000])/dt1 + np.nanmean(elon[2000:])/dt2),file = f3)\n"
     ]
    },
    {
     "name": "stdout",
     "output_type": "stream",
     "text": [
      "patch0.8/density0.1/epsilonAA_40\n",
      "patch0.9/density0.01/epsilonAA_18\n",
      "patch0.9/density0.01/epsilonAA_20\n",
      "patch0.9/density0.01/epsilonAA_22\n",
      "patch0.9/density0.01/epsilonAA_25\n",
      "patch0.9/density0.01/epsilonAA_30\n",
      "patch0.9/density0.01/epsilonAA_35\n",
      "patch0.9/density0.01/epsilonAA_40\n",
      "patch0.9/density0.05/epsilonAA_18\n",
      "patch0.9/density0.05/epsilonAA_20\n",
      "patch0.9/density0.05/epsilonAA_22\n",
      "patch0.9/density0.05/epsilonAA_25\n",
      "patch0.9/density0.05/epsilonAA_30\n",
      "patch0.9/density0.05/epsilonAA_35\n",
      "patch0.9/density0.05/epsilonAA_40\n",
      "patch0.9/density0.1/epsilonAA_18\n",
      "patch0.9/density0.1/epsilonAA_20\n",
      "patch0.9/density0.1/epsilonAA_22\n",
      "patch0.9/density0.1/epsilonAA_25\n",
      "patch0.9/density0.1/epsilonAA_30\n",
      "patch0.9/density0.1/epsilonAA_35\n",
      "patch0.9/density0.1/epsilonAA_40\n"
     ]
    }
   ],
   "source": [
    "patch = [0.7,0.8,0.9]#,1.0]\n",
    "density = [0.01,0.05,0.1]\n",
    "epsilon = [18,20,22,25,30,35,40]\n",
    "for i in patch:\n",
    "    for j in density:\n",
    "        for k in epsilon:\n",
    "            if j < 0.1:\n",
    "                path = 'patch%0.1f/density%0.2f/epsilonAA_%d'%(i,j,k)\n",
    "            else:\n",
    "                path = 'patch%0.1f/density%0.1f/epsilonAA_%d'%(i,j,k)\n",
    "            print(path)\n",
    "            if k == 20 and i == 0.7:\n",
    "                #Ifile1 = path + \"/N1000/analysis_files/chain_size_distribution_new.dat\"\n",
    "                Ifile1 = path + \"/N1000/analysis_files/distribution_fit_cates.dat\"\n",
    "                Ifile2 = path + \"/N1000/rates.dat\"\n",
    "                Ifile3 = path + \"/N1000/analysis_files/chain_stats.dat\"\n",
    "                Ofile1 = path + \"/N1000/post_process_files/Cates.dat\"\n",
    "                Ofile2 = path + \"/N1000/overall_rates.dat\"\n",
    "                #fig_path = path + \"/N1000/figures/Chain_size_dist_fit.jpg\"\n",
    "            else:\n",
    "                #Ifile1 = path + \"/analysis_files/chain_size_distribution_new.dat\"\n",
    "                Ifile1 = path + \"/analysis_files/distribution_fit_cates.dat\"\n",
    "                Ifile2 = path + \"/rates.dat\"\n",
    "                Ifile3 = path + \"/analysis_files/chain_stats.dat\"\n",
    "                Ofile1 = path + \"/post_process_files/Cates.dat\"\n",
    "                Ofile2 = path + \"/overall_rates.dat\"\n",
    "                #fig_path = path + \"/figures/Chain_size_dist_fit.jpg\"\n",
    "                \n",
    "            ### Writing prefactor and L_bar from curve fit data to file #######\n",
    "            try:\n",
    "                with open(Ifile1,\"r\") as f1:\n",
    "                    for line in f1.readlines()[2:]:\n",
    "                        if \"a\" in line.split():\n",
    "                            pre_f = float(line.split()[-1])\n",
    "                        if \"b\" in line.split():\n",
    "                            L_bar = float(line.split()[-1])\n",
    "                f2 = open(Ofile1,\"w\")\n",
    "                print(\"Updated parameters from new fits to chain distribution with errorbars : \",date.today(),file = f2)\n",
    "                print(\"c1/c2 from curve fit : \",pre_f/2,file = f2)\n",
    "                print(\"L_bar frrom curve fit : \",L_bar, file = f2)\n",
    "            ######################################################################\n",
    "            \n",
    "            ########## Rate calculation and writing to files #####################\n",
    "                rate = np.genfromtxt(Ifile2,skip_header=1)\n",
    "                frag = rate[:,2]\n",
    "                elon = rate[:,1]\n",
    "                depol = rate[:,3]\n",
    "                f3 = open(Ofile2,\"w\")\n",
    "                print(\"Overall rates calculated from patch coordination data\",file = f3)\n",
    "            \n",
    "                rho = j\n",
    "                if k!=18 and k!=22:\n",
    "                    dt1 = 1000000 * 0.001\n",
    "                    dt2 = 100000 * 0.001\n",
    "                    c1_av = (np.mean(frag[:2000])+np.mean(depol[:2000]))/dt1 + (np.mean(frag[2000:])+np.mean(depol[2000:]))/dt2\n",
    "                    c2_av = (np.mean(elon[:2000]))/dt1 + np.mean(elon[2000:])/dt2\n",
    "                    print(\"elongation : \",(np.mean(elon[:2000])/dt1 + np.mean(elon[2000:])/dt2),file = f3)\n",
    "                    print(\"fragmentation :\",(np.mean(frag[:2000])/dt1 + np.mean(frag[2000:])/dt2),file = f3)\n",
    "                    print(\"depolymerization :\",(np.mean(depol[:2000])/dt1 + np.mean(depol[2000:])/dt),file = f3)\n",
    "                    frag[frag==0] = np.nan\n",
    "                    depol[depol==0] = np.nan\n",
    "                    elon[elon==0] = np.nan \n",
    "                    c1_nm = (np.nanmean(frag[:2000])+np.nanmean(depol[:2000]))/dt1 + (np.nanmean(frag[200:])+np.nanmean(depol[2000:]))/dt2\n",
    "                    c2_nm = np.nanmean(elon[:2000])/dt1 + np.nanmean(elon[2000:])/dt2\n",
    "                    print(\"elongation without zeros : \",(np.nanmean(elon[:2000])/dt1 + np.nanmean(elon[2000:])/dt2),file = f3)\n",
    "                    print(\"fragmentation without zeros :\",(np.nanmean(frag[:2000])/dt1 + np.nanmean(frag[2000:])/dt2),file = f3)\n",
    "                    print(\"depolymerization without zeros :\",(np.nanmean(depol[:2000])/dt1 + np.nanmean(depol[2000:])/dt),file = f3)\n",
    "                else:\n",
    "                    dt = 100000 * 0.001\n",
    "                    c1_av = (np.mean(frag)+np.mean(depol))/dt\n",
    "                    c2_av = np.mean(elon)/dt\n",
    "                    print(\"elongation : \",(np.mean(elon)/dt),file = f3)\n",
    "                    print(\"fragmentation :\",(np.mean(frag)/dt),file = f3)\n",
    "                    print(\"depolymerization :\",(np.mean(depol)/dt),file = f3)\n",
    "                    frag[frag==0] = np.nan\n",
    "                    depol[depol==0] = np.nan\n",
    "                    elon[elon==0] = np.nan\n",
    "                    print(\"elongation without zeros : \",(np.nanmean(elon)/dt),file = f3)\n",
    "                    print(\"fragmentation without zeros :\",(np.nanmean(frag)/dt),file = f3)\n",
    "                    print(\"depolymerization without zeros :\",(np.nanmean(depol)/dt),file = f3)\n",
    "                    c1_nm = (np.nanmean(frag)+np.nanmean(depol))/dt\n",
    "                    c2_nm = np.nanmean(elon)/dt\n",
    "            \n",
    "                print(\"parameters calculated from simulation\",file = f2)\n",
    "                print(\"c1/c2 from simulation : \",c1_av/c2_av,file=f2)\n",
    "                print(\"c1/c2 from simulation wihout zeros : \",c1_nm/c2_nm,file = f2)\n",
    "                print(\"L_bar from simulation :\",np.sqrt((rho*c2_av)/(2*c1_av)),file = f2)\n",
    "                print(\"L_bar from silumation without zeros :\",np.sqrt((rho*c2_nm)/(2*c1_nm)),file = f2)\n",
    "                f2.close()\n",
    "                f3.close()\n",
    "            except:\n",
    "                print(\"Error reading file \",Ifile1)\n",
    "            \n",
    "          \n",
    "            \n",
    "            \n",
    "            "
   ]
  },
  {
   "cell_type": "code",
   "execution_count": 4,
   "metadata": {},
   "outputs": [
    {
     "data": {
      "text/html": [
       "<div>\n",
       "<style scoped>\n",
       "    .dataframe tbody tr th:only-of-type {\n",
       "        vertical-align: middle;\n",
       "    }\n",
       "\n",
       "    .dataframe tbody tr th {\n",
       "        vertical-align: top;\n",
       "    }\n",
       "\n",
       "    .dataframe thead th {\n",
       "        text-align: right;\n",
       "    }\n",
       "</style>\n",
       "<table border=\"1\" class=\"dataframe\">\n",
       "  <thead>\n",
       "    <tr style=\"text-align: right;\">\n",
       "      <th></th>\n",
       "      <th>density</th>\n",
       "      <th>p7</th>\n",
       "      <th>p8</th>\n",
       "      <th>p9</th>\n",
       "      <th>p10</th>\n",
       "    </tr>\n",
       "  </thead>\n",
       "  <tbody>\n",
       "    <tr>\n",
       "      <th>0</th>\n",
       "      <td>0.01</td>\n",
       "      <td>5.309</td>\n",
       "      <td>1.294</td>\n",
       "      <td>0.451</td>\n",
       "      <td>0.852</td>\n",
       "    </tr>\n",
       "    <tr>\n",
       "      <th>1</th>\n",
       "      <td>0.05</td>\n",
       "      <td>0.791</td>\n",
       "      <td>0.386</td>\n",
       "      <td>0.187</td>\n",
       "      <td>0.214</td>\n",
       "    </tr>\n",
       "    <tr>\n",
       "      <th>2</th>\n",
       "      <td>0.10</td>\n",
       "      <td>0.446</td>\n",
       "      <td>0.224</td>\n",
       "      <td>0.146</td>\n",
       "      <td>0.178</td>\n",
       "    </tr>\n",
       "  </tbody>\n",
       "</table>\n",
       "</div>"
      ],
      "text/plain": [
       "   density     p7     p8     p9    p10\n",
       "0     0.01  5.309  1.294  0.451  0.852\n",
       "1     0.05  0.791  0.386  0.187  0.214\n",
       "2     0.10  0.446  0.224  0.146  0.178"
      ]
     },
     "execution_count": 4,
     "metadata": {},
     "output_type": "execute_result"
    }
   ],
   "source": [
    "xls = pd.ExcelFile('cates_fit.xlsx')\n",
    "d1 = pd.read_excel(xls,'Simulation')\n",
    "d2 = pd.read_excel(xls,'Fit')\n",
    "d2.head()"
   ]
  },
  {
   "cell_type": "code",
   "execution_count": 20,
   "metadata": {},
   "outputs": [
    {
     "data": {
      "image/png": "[encoded data removed]",
      "text/plain": [
       "<Figure size 432x288 with 1 Axes>"
      ]
     },
     "metadata": {
      "needs_background": "light"
     },
     "output_type": "display_data"
    }
   ],
   "source": [
    "chi = [6.84e-4,1.45e-3,2.3e-3,3.3e-3]\n",
    "fig = plt.figure()\n",
    "ax = fig.add_axes([0.15,0.18,0.80,0.80])\n",
    "ax.plot(chi,[d2.p7[0]/2,d2.p8[0]/2,d2.p9[0]/2,d2.p10[0]/2],'--d',markersize = 8,\n",
    "        color = \"red\",linewidth = 2,label = r\"$0.01$\")\n",
    "ax.plot(chi,[d2.p7[1]/2,d2.p8[1]/2,d2.p9[1]/2,d2.p10[1]/2],'--d',markersize = 8,\n",
    "        color = \"green\",linewidth = 2,label = r\"$0.05$\")\n",
    "ax.plot(chi,[d2.p7[2]/2,d2.p8[2]/2,d2.p9[2]/2,d2.p10[2]/2],'--d',markersize = 8,\n",
    "        color = \"blue\",linewidth = 2,label = r\"$0.1$\")\n",
    "plt.xlabel(r\"$\\chi$\",fontsize = 24)\n",
    "plt.ylabel(r\"$c_1/c_2$\",fontsize = 24)\n",
    "plt.ticklabel_format(axis='x', style='sci', scilimits=(0,0))\n",
    "plt.xticks(chi,fontsize = 16)\n",
    "plt.yticks(fontsize = 16)\n",
    "plt.legend(fontsize = 16)\n",
    "plt.savefig(\"c1-c2.jpg\",dpi = 600)\n",
    "plt.savefig(\"c1-c2,png\",dpi = 600)\n"
   ]
  },
  {
   "cell_type": "code",
   "execution_count": 22,
   "metadata": {},
   "outputs": [
    {
     "data": {
      "image/png": "[encoded data removed]",
      "text/plain": [
       "<Figure size 432x288 with 1 Axes>"
      ]
     },
     "metadata": {
      "needs_background": "light"
     },
     "output_type": "display_data"
    }
   ],
   "source": [
    "chi = [6.84e-4,1.45e-3,2.3e-3,3.3e-3]\n",
    "fig = plt.figure()\n",
    "ax = fig.add_axes([0.15,0.18,0.80,0.80])\n",
    "ax.plot(chi,[d2.p7[0]/2,d2.p8[0]/2,d2.p9[0]/2,d2.p10[0]/2],'--d',markersize = 8,\n",
    "        color = \"red\",linewidth = 2,label = r\"$0.01$\")\n",
    "ax.plot(chi,[d2.p7[1]/2,d2.p8[1]/2,d2.p9[1]/2,d2.p10[1]/2],'--d',markersize = 8,\n",
    "        color = \"green\",linewidth = 2,label = r\"$0.05$\")\n",
    "ax.plot(chi,[d2.p7[2]/2,d2.p8[2]/2,d2.p9[2]/2,d2.p10[2]/2],'--d',markersize = 8,\n",
    "        color = \"blue\",linewidth = 2,label = r\"$0.1$\")\n",
    "plt.xlabel(r\"$\\chi$\",fontsize = 24)\n",
    "plt.ylabel(r\"$c_1/c_2$\",fontsize = 24)\n",
    "plt.ticklabel_format(axis='x', style='sci', scilimits=(0,0))\n",
    "plt.xticks(chi,fontsize = 16)\n",
    "plt.yscale(\"log\")\n",
    "plt.yticks(fontsize = 16)\n",
    "plt.legend(fontsize = 16)\n",
    "plt.savefig(\"c1-c2-log.jpg\",dpi = 600)\n",
    "plt.savefig(\"c1-c2-log.png\",dpi = 600)\n"
   ]
  },
  {
   "cell_type": "code",
   "execution_count": 28,
   "metadata": {},
   "outputs": [
    {
     "data": {
      "image/png": "[encoded data removed]",
      "text/plain": [
       "<Figure size 432x288 with 1 Axes>"
      ]
     },
     "metadata": {
      "needs_background": "light"
     },
     "output_type": "display_data"
    }
   ],
   "source": [
    "patch = [0.7]#,0.8,0.9]\n",
    "density = [0.01]#,0.05,0.1]\n",
    "epsilon = [22]#[18,20,22,25,30,35,40]\n",
    "for i in patch:\n",
    "    for j in density:\n",
    "        for k in epsilon:\n",
    "            if j < 0.1:\n",
    "                path = 'patch%0.1f/density%0.2f/epsilonAA_%d'%(i,j,k)\n",
    "            else:\n",
    "                path = 'patch%0.1f/density%0.1f/epsilonAA_%d'%(i,j,k)\n",
    "            fig_path = path + \"/figures/Chain_Hist_New.jpg\"\n",
    "            Ifile1 = path + \"/analysis_files/chain_size_distribution_new.dat\"\n",
    "            #Ifile2 = path + \"/post_process_files/particle_cluster_size.dat\"\n",
    "            #print(Ifile2)\n",
    "            data = np.genfromtxt(Ifile1,skip_header = 1)\n",
    "            #pdat = np.genfromtxt(Ifile2,skip_header = 25024001,dtype=int)\n",
    "            ##newline\n",
    "            bin_centers = np.array(data[:,0],dtype = int)\n",
    "            y2 = data[:,1]/np.sum(data[:,1])\n",
    "            ##\n",
    "            #NL = data[:np.max(pdat[:,1])+1,1]/np.sum(data[:,1])\n",
    "            par,cov = optimize.curve_fit(objective_fun,xdata = data[:,0],ydata = y2)\n",
    "            y = objective_fun(data[:,0],par[0],par[1])\n",
    "            fig = plt.figure()\n",
    "            ax = fig.add_axes([0.15,0.15,0.80,0.80])\n",
    "            #ax.hist(bin_centers,pdat[:,1],bins = 20,density=True,color = \"seagreen\")\n",
    "            ax.bar(bin_centers,y2,width = 0.9,align='center',color = 'seagreen',linewidth = 1.0,yerr = data[:,2],capsize = 2)\n",
    "            ax.plot(data[:,0],y,color = \"darkorange\",linewidth = 2)\n",
    "            plt.xlabel(r\"$L$\",fontsize = 20)\n",
    "            plt.ylabel(r\"$N(L)$\",fontsize = 20)\n",
    "            plt.xticks(bin_centers,fontsize = 14)\n",
    "            plt.yticks(fontsize = 14)\n",
    "            plt.savefig(fig_path,dpi = 600)\n",
    "        \n",
    "            \n",
    "            "
   ]
  },
  {
   "cell_type": "code",
   "execution_count": null,
   "metadata": {},
   "outputs": [],
   "source": []
  }
 ],
 "metadata": {
  "kernelspec": {
   "display_name": "Python 3.9.12 ('base')",
   "language": "python",
   "name": "python3"
  },
  "language_info": {
   "codemirror_mode": {
    "name": "ipython",
    "version": 3
   },
   "file_extension": ".py",
   "mimetype": "text/x-python",
   "name": "python",
   "nbconvert_exporter": "python",
   "pygments_lexer": "ipython3",
   "version": "3.9.12"
  },
  "orig_nbformat": 4,
  "vscode": {
   "interpreter": {
    "hash": "6dd1b76a3a96323851402af7c6e4e6569ab9d92e5a065d343f61ec6e246de817"
   }
  }
 },
 "nbformat": 4,
 "nbformat_minor": 2
}
