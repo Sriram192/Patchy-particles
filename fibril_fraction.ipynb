{
 "cells": [
  {
   "cell_type": "code",
   "execution_count": 3,
   "metadata": {},
   "outputs": [],
   "source": [
    "import numpy as np \n",
    "import matplotlib.pyplot as plt \n",
    "import math\n",
    "from matplotlib import rc \n",
    "import pandas as pd\n",
    "plt.rcParams.update({\n",
    "    \"text.usetex\": True,\n",
    "    \"font.family\": \"sans-serif\",\n",
    "    \"font.sans-serif\": [\"Helvetica\"]})\n",
    "# for Palatino and other serif fonts use:\n",
    "plt.rcParams.update({\n",
    "    \"text.usetex\": True,\n",
    "    \"font.family\": \"serif\",\n",
    "    \"font.serif\": [\"Palatino\"],\n",
    "})\n",
    "# It's also possible to use the reduced notation by directly setting font.family:\n",
    "plt.rcParams.update({\n",
    "  \"text.usetex\": True,\n",
    "  \"font.family\": \"Helvetica\"\n",
    "})\n",
    "import scipy\n",
    "import math\n",
    "import os\n",
    "from scipy import optimize\n"
   ]
  },
  {
   "cell_type": "code",
   "execution_count": 4,
   "metadata": {},
   "outputs": [],
   "source": [
    "def objective_fun(x,a,b):\n",
    "    return a*x+b"
   ]
  },
  {
   "cell_type": "code",
   "execution_count": 8,
   "metadata": {},
   "outputs": [],
   "source": [
    "def objective_fun2(x,k):\n",
    "    m0 = 1.0\n",
    "    return m0/(1+k*x)**2"
   ]
  },
  {
   "cell_type": "code",
   "execution_count": 9,
   "metadata": {},
   "outputs": [],
   "source": [
    "patch = [0.7,0.8,0.9,1.0]\n",
    "density = [0.01,0.05,0.1]\n",
    "epsilon = [20,25,30,35,40]\n",
    "for i in patch:\n",
    "    for j in density:\n",
    "        for k in epsilon:\n",
    "            if j < 0.1:\n",
    "                path = 'patch%0.1f/density%0.2f/epsilonAA_%d'%(i,j,k)\n",
    "            else:\n",
    "                path = 'patch%0.1f/density%0.1f/epsilonAA_%d'%(i,j,k)\n",
    "            dt = 0.001\n",
    "            Ifile1 = path + \"/analysis_files/monomer_conc.dat\"\n",
    "            Ofile1 = path + \"/analysis_files/fibril_conc.dat\"\n",
    "            Ofile2 = path + \"/analysis_files/fibril_slope_int.dat\"\n",
    "            f2 = open(Ofile2,\"w\")\n",
    "            print(\"slope    Intercept\",file = f2)\n",
    "            fig_path = path + \"/figures/Fibril.jpg\"\n",
    "            fig_path2 = path + \"/figures/monomer.jpg\"\n",
    "            data = np.genfromtxt(Ifile1,skip_header = 1)\n",
    "            mon = data[:,1]/1000\n",
    "            data[:,1] = (1000-data[:,1])/1000\n",
    "            np.savetxt(Ofile1,data,fmt = \"%0.3f\")\n",
    "            par,cov = optimize.curve_fit(objective_fun,xdata = data[:10,0]*dt,ydata = data[:10,1])\n",
    "            y = objective_fun(data[:,0]*dt,par[0],par[1])\n",
    "            print(\"%0.18e    %0.18e\"%(par[0],par[1]),file = f2)\n",
    "            fig = plt.figure()\n",
    "            ax = fig.add_axes([0.15,0.15,0.80,0.80])\n",
    "            ax.plot(data[:,0]*dt,data[:,1],'o',markersize = 4,alpha = 0.7,color = \"seagreen\")\n",
    "            ax.plot(data[:,0]*dt,y,'--',color = \"darkorange\",linewidth = 2)\n",
    "            plt.ylim(-0.05,1.1)\n",
    "            plt.xlabel(r\"$\\tau$\",fontsize = 20)\n",
    "            plt.ylabel(r\"$f$\",fontsize = 20)\n",
    "            plt.xticks(fontsize = 14)\n",
    "            plt.yticks(fontsize = 14)\n",
    "            plt.savefig(fig_path,dpi = 600)\n",
    "            plt.close()\n",
    "            \n",
    "            par,cov = optimize.curve_fit(objective_fun2,xdata = data[:,0]*dt,ydata = mon)\n",
    "            y = objective_fun2(data[:,0]*dt,par[0])\n",
    "            fig = plt.figure()\n",
    "            ax = fig.add_axes([0.15,0.15,0.80,0.80])\n",
    "            ax.plot(data[:,0]*dt,mon,'o',markersize = 4,alpha = 0.2,color = \"seagreen\")\n",
    "            ax.plot(data[:,0]*dt,y,'--',color = \"darkorange\",linewidth = 2)\n",
    "            plt.ylim(-0.05,1.1)\n",
    "            plt.xlabel(r\"$\\tau$\",fontsize = 20)\n",
    "            plt.ylabel(r\"$m$\",fontsize = 20)\n",
    "            plt.xticks(fontsize = 14)\n",
    "            plt.yticks(fontsize = 14)\n",
    "            plt.savefig(fig_path2,dpi = 600)\n",
    "            plt.close()\n",
    "            "
   ]
  },
  {
   "cell_type": "code",
   "execution_count": null,
   "metadata": {},
   "outputs": [],
   "source": []
  }
 ],
 "metadata": {
  "kernelspec": {
   "display_name": "Python 3.8.5 ('base')",
   "language": "python",
   "name": "python3"
  },
  "language_info": {
   "codemirror_mode": {
    "name": "ipython",
    "version": 3
   },
   "file_extension": ".py",
   "mimetype": "text/x-python",
   "name": "python",
   "nbconvert_exporter": "python",
   "pygments_lexer": "ipython3",
   "version": "3.8.5"
  },
  "orig_nbformat": 4,
  "vscode": {
   "interpreter": {
    "hash": "ad2bdc8ecc057115af97d19610ffacc2b4e99fae6737bb82f5d7fb13d2f2c186"
   }
  }
 },
 "nbformat": 4,
 "nbformat_minor": 2
}
